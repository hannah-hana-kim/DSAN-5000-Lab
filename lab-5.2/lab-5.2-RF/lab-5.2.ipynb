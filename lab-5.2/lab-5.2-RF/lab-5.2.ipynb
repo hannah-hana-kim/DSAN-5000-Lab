{
  "cells": [
    {
      "cell_type": "raw",
      "metadata": {},
      "source": [
        "---\n",
        "title: 'Lab-5.2: Random forests'\n",
        "format:\n",
        "  html:\n",
        "    embed-resources: true\n",
        "---"
      ],
      "id": "0693d3d5"
    },
    {
      "cell_type": "markdown",
      "metadata": {},
      "source": [
        "**Author**: Dr. Purna Gamage\n",
        "\n",
        "**Download**: [Click here](lab-5.2-RF.zip)\n",
        "\n",
        "**Instructions**\n",
        "\n",
        "* Read and work through the demonstration content on your own\n",
        "* Complete all exercises below for the `R part` in a `.rmd` notebook \n",
        "\n",
        "**Submission:**\n",
        "\n",
        "* You need to upload ONE document to Canvas when you are done. \n",
        "  * A PDF (or HTML) of the completed form of the R lab-assignment notebook\n",
        "* The final uploaded version should NOT have any code-errors present. \n",
        "* All outputs must be visible in the uploaded version, including code-cell outputs, images, graphs, etc\n",
        "\n",
        "\n",
        "# Demonstration\n"
      ],
      "id": "64f0c15b"
    },
    {
      "cell_type": "code",
      "metadata": {},
      "source": [
        "library('sparkline')"
      ],
      "id": "ed0e5799",
      "execution_count": null,
      "outputs": []
    },
    {
      "cell_type": "markdown",
      "metadata": {},
      "source": [
        "### Classification trees \n",
        "\n",
        "#### Setup\n"
      ],
      "id": "0f1c1d49"
    },
    {
      "cell_type": "code",
      "metadata": {},
      "source": [
        "library(tidyverse)\n",
        "library(dplyr)\n",
        "library(tree)\n",
        "library(ISLR)\n",
        "library(caret)\n",
        "library(rpart)\n",
        "library(rattle)\n",
        "library(visNetwork)"
      ],
      "id": "440c2e7e",
      "execution_count": null,
      "outputs": []
    },
    {
      "cell_type": "code",
      "metadata": {},
      "source": [
        "attach(Carseats)\n",
        "hist(Carseats$Sales)\n",
        "\n",
        "Carseats <- Carseats %>% mutate(High = if_else(Sales <= 8, 0, 1) %>% as.factor())"
      ],
      "id": "48265c8c",
      "execution_count": null,
      "outputs": []
    },
    {
      "cell_type": "markdown",
      "metadata": {},
      "source": [
        "#### Initial tree\n"
      ],
      "id": "be5e53cd"
    },
    {
      "cell_type": "code",
      "metadata": {},
      "source": [
        "# tree.carseats=tree::tree(High~.,data=Carseats %>% select(-Sales))\n",
        "tree.carseats=tree::tree(High~.,data=Carseats)\n",
        "\n",
        "summary(tree.carseats)\n",
        "plot(tree.carseats)\n",
        "text(tree.carseats,pretty=0) #annotate"
      ],
      "id": "44db5794",
      "execution_count": null,
      "outputs": []
    },
    {
      "cell_type": "markdown",
      "metadata": {},
      "source": [
        "#### Train/test split\n"
      ],
      "id": "db4a0264"
    },
    {
      "cell_type": "code",
      "metadata": {},
      "source": [
        "set.seed(2)\n",
        "train=sample(1:nrow(Carseats), 200)\n",
        "Carseats.test=Carseats[-train,]\n",
        "tree.carseats=tree(High~.-Sales,Carseats,subset=train)\n",
        "tree.pred=predict(tree.carseats,Carseats.test,type=\"class\")\n",
        "confusionMatrix(tree.pred,Carseats.test$High)"
      ],
      "id": "94450038",
      "execution_count": null,
      "outputs": []
    },
    {
      "cell_type": "markdown",
      "metadata": {},
      "source": [
        "#### Pruning the tree using CV\n"
      ],
      "id": "26ffdc8b"
    },
    {
      "cell_type": "code",
      "metadata": {
        "vscode": {
          "languageId": "r"
        }
      },
      "source": [
        "set.seed(3)\n",
        "cv.carseats=cv.tree(tree.carseats,FUN=prune.misclass)\n",
        "names(cv.carseats)\n",
        "cv.carseats\n",
        "par(mfrow=c(1,2))\n",
        "plot(cv.carseats$size,cv.carseats$dev,type=\"b\")\n",
        "plot(cv.carseats$k,cv.carseats$dev,type=\"b\")\n",
        "prune.carseats=prune.misclass(tree.carseats,best=9)\n",
        "plot(prune.carseats)\n",
        "text(prune.carseats,pretty=0)\n",
        "tree.pred=predict(prune.carseats,Carseats.test,type=\"class\")\n",
        "confusionMatrix(tree.pred,Carseats.test$High)"
      ],
      "id": "2013c36c",
      "execution_count": null,
      "outputs": []
    },
    {
      "cell_type": "markdown",
      "metadata": {},
      "source": [
        "#### Pruning the tree manually\n"
      ],
      "id": "de99f5fd"
    },
    {
      "cell_type": "code",
      "metadata": {
        "vscode": {
          "languageId": "r"
        }
      },
      "source": [
        "prune.carseats=prune.misclass(tree.carseats,best=15)\n",
        "plot(prune.carseats)\n",
        "text(prune.carseats,pretty=0)\n",
        "tree.pred=predict(prune.carseats,Carseats.test,type=\"class\")\n",
        "confusionMatrix(tree.pred,Carseats.test$High)"
      ],
      "id": "6cb02498",
      "execution_count": null,
      "outputs": []
    },
    {
      "cell_type": "markdown",
      "metadata": {},
      "source": [
        "### Fitting Regression Trees \n",
        "\n",
        "#### Initial tree - using rpart and rattle / visNetwork\n"
      ],
      "id": "a41f6b74"
    },
    {
      "cell_type": "code",
      "metadata": {
        "vscode": {
          "languageId": "r"
        }
      },
      "source": [
        "library(MASS)\n",
        "set.seed(1)\n",
        "train = sample(1:nrow(Boston), nrow(Boston)/2)\n",
        "tree.boston=tree(medv~.,Boston,subset=train)\n",
        "summary(tree.boston)\n",
        "tree.boston2=rpart(medv~.,Boston,subset=train)\n",
        "fancyRpartPlot(tree.boston2)\n",
        "visTree(tree.boston2)"
      ],
      "id": "1e0f081b",
      "execution_count": null,
      "outputs": []
    },
    {
      "cell_type": "markdown",
      "metadata": {},
      "source": [
        "#### Pruning tree - using rpart and visNetwork\n"
      ],
      "id": "479053a9"
    },
    {
      "cell_type": "code",
      "metadata": {
        "vscode": {
          "languageId": "r"
        }
      },
      "source": [
        "cv.boston=cv.tree(tree.boston)\n",
        "plot(cv.boston$size,cv.boston$dev,type='b')\n",
        "prune.boston=prune.tree(tree.boston,best=5)\n",
        "plot(prune.boston)\n",
        "text(prune.boston,pretty=0)\n",
        "yhat=predict(tree.boston,newdata=Boston[-train,])\n",
        "boston.test=Boston[-train,\"medv\"]\n",
        "plot(yhat,boston.test)\n",
        "abline(0,1)\n",
        "mean((yhat-boston.test)^2)"
      ],
      "id": "2c89bdfa",
      "execution_count": null,
      "outputs": []
    },
    {
      "cell_type": "markdown",
      "metadata": {},
      "source": [
        "### Bagging and Random Forests \n",
        "\n",
        "#### Bagging mtry = # variables\n",
        "\n",
        "![](rf-meme.png)\n"
      ],
      "id": "8f51cf77"
    },
    {
      "cell_type": "code",
      "metadata": {
        "vscode": {
          "languageId": "r"
        }
      },
      "source": [
        "library(randomForest)\n",
        "set.seed(1)\n",
        "bag.boston=randomForest(medv~.,data=Boston,subset=train,mtry=13,importance=TRUE)\n",
        "bag.boston\n",
        "yhat.bag = predict(bag.boston,newdata=Boston[-train,])\n",
        "plot(yhat.bag, boston.test)\n",
        "abline(0,1)\n",
        "mean((yhat.bag-boston.test)^2)"
      ],
      "id": "7c594f80",
      "execution_count": null,
      "outputs": []
    },
    {
      "cell_type": "markdown",
      "metadata": {},
      "source": [
        "#### Adjust number of trees\n"
      ],
      "id": "3f6701e0"
    },
    {
      "cell_type": "code",
      "metadata": {
        "vscode": {
          "languageId": "r"
        }
      },
      "source": [
        "bag.boston=randomForest(medv~.,data=Boston,subset=train,mtry=13,ntree=25)\n",
        "yhat.bag = predict(bag.boston,newdata=Boston[-train,])\n",
        "mean((yhat.bag-boston.test)^2)"
      ],
      "id": "d0761a1b",
      "execution_count": null,
      "outputs": []
    },
    {
      "cell_type": "markdown",
      "metadata": {},
      "source": [
        "#### Random forest mtry < # variables\n"
      ],
      "id": "351fcf78"
    },
    {
      "cell_type": "code",
      "metadata": {
        "vscode": {
          "languageId": "r"
        }
      },
      "source": [
        "set.seed(1)\n",
        "rf.boston=randomForest(medv~.,data=Boston,subset=train,mtry=6,importance=TRUE)\n",
        "yhat.rf = predict(rf.boston,newdata=Boston[-train,])\n",
        "mean((yhat.rf-boston.test)^2)\n",
        "importance(rf.boston)\n",
        "varImpPlot(rf.boston)"
      ],
      "id": "57dd0a3e",
      "execution_count": null,
      "outputs": []
    },
    {
      "cell_type": "markdown",
      "metadata": {},
      "source": [
        "### Boosting\n"
      ],
      "id": "d905a2d3"
    },
    {
      "cell_type": "code",
      "metadata": {
        "vscode": {
          "languageId": "r"
        }
      },
      "source": [
        "library(gbm)\n",
        "set.seed(1)\n",
        "boost.boston=gbm(medv~.,data=Boston[train,],distribution=\"gaussian\",n.trees=5000,interaction.depth=4)\n",
        "summary(boost.boston)\n",
        "par(mfrow=c(1,2))\n",
        "plot(boost.boston,i=\"rm\")\n",
        "plot(boost.boston,i=\"lstat\")\n",
        "yhat.boost=predict(boost.boston,newdata=Boston[-train,],n.trees=5000)\n",
        "mean((yhat.boost-boston.test)^2)\n",
        "boost.boston=gbm(medv~.,data=Boston[train,],distribution=\"gaussian\",n.trees=5000,interaction.depth=4,shrinkage=0.2,verbose=F)\n",
        "yhat.boost=predict(boost.boston,newdata=Boston[-train,],n.trees=5000)\n",
        "mean((yhat.boost-boston.test)^2)"
      ],
      "id": "d3125f3a",
      "execution_count": null,
      "outputs": []
    },
    {
      "cell_type": "markdown",
      "metadata": {},
      "source": [
        "# Lab Assignment\n",
        "\n",
        "### Problem 1: \n",
        "\n",
        "Implement decision tree from scratch\n",
        "\n",
        "a) _Warm up_. Write a function called rss() that takes in a vector and returns the residual sum of squares (relative to the mean of the vector).\n"
      ],
      "id": "62936fcc"
    },
    {
      "cell_type": "code",
      "metadata": {},
      "source": [
        "rss <- function(v) {\n",
        "  mean_v <- mean(v)\n",
        "  res <- v - mean_v\n",
        "  rss <- sum((res)^2)\n",
        "  \n",
        "  return(rss)\n",
        "}"
      ],
      "id": "a9db2436",
      "execution_count": null,
      "outputs": []
    },
    {
      "cell_type": "markdown",
      "metadata": {},
      "source": [
        "b) _Best Split_. We're next going to write a function best_split() that will form the basis of a decision tree. This function will take in two arguments: a vector predictor variable (i.e., x) and a vector target variable (i.e., y). This function will identify the single location in the x domain that would yield the best split of the data, such that the two halves now each have least total RSS in the target variable. \n"
      ],
      "id": "6c29f215"
    },
    {
      "cell_type": "code",
      "metadata": {},
      "source": [
        "best_split <- function(x, y) {\n",
        "  n <- length(x)\n",
        "  split_locations <- numeric(n - 1)\n",
        "  improvements <- numeric(n - 1)\n",
        "\n",
        "  for (i in 1:(n - 1)) {\n",
        "    split_value <- (x[i] + x[i + 1]) / 2\n",
        "    left_idx <- x <= split_value\n",
        "    right_idx <- x > split_value\n",
        "\n",
        "    rss_left <- rss(y[left_idx])\n",
        "    rss_right <- rss(y[right_idx])\n",
        "\n",
        "    new_rss <- rss_left + rss_right\n",
        "    old_rss <- rss(y)\n",
        "    improvement <- old_rss - new_rss\n",
        "\n",
        "    split_locations[i] <- split_value\n",
        "    improvements[i] <- improvement\n",
        "  }\n",
        "\n",
        "  best_split_idx <- which.max(improvements)\n",
        "  best_split_loc <- split_locations[best_split_idx]\n",
        "\n",
        "  left_mean <- mean(y[x <= best_split_loc])\n",
        "  right_mean <- mean(y[x > best_split_loc])\n",
        "  \n",
        "  cat(\n",
        "    \"Split Location:\", best_split_loc, \"\\n\",\n",
        "    \"Left Mean:\", left_mean, \"\\n\",\n",
        "    \"Right Mean:\", right_mean, \"\\n\",\n",
        "    \"Improvement:\", improvements[best_split_idx], \"\\n\"\n",
        "  )\n",
        "}"
      ],
      "id": "3e87e7a9",
      "execution_count": null,
      "outputs": []
    },
    {
      "cell_type": "markdown",
      "metadata": {},
      "source": [
        "Some things to think about:\n",
        " (i) If your input x vector has *n* data points, how many possible split locations are there? \n",
        " (ii) You can accomplish this task by brute force. For every possible split location, split the data into two parts and compute the new total RSS. Then just return whichever split location was the optimal one.\n",
        " \n",
        "Make sure your function returns a few things (perhaps in a list): the location of the x split, the mean of y for each of the split parts, the improvement in RSS that was achieved by the split. \n",
        "\n",
        "c) _One Dimensional Data_ Here is a synthetic data set with one predictor and one response. Use your function to find out where the first split would be if $y$ is predicted from $x$ with a regression tree.\n"
      ],
      "id": "6c8c83fc"
    },
    {
      "cell_type": "code",
      "metadata": {},
      "source": [
        "x = seq(0,10,by = .01)\n",
        "y0 = cos(x/4 + x^2/5)*x^2/20 + x \n",
        "y = y0 + rnorm(length(x))\n",
        "mydf = data.frame(x=x,y=y)\n",
        "rss0 = 1000*var(y)\n",
        "plot(x,y)\n",
        "split0 <- best_split(x,y) \n",
        "rss0"
      ],
      "id": "0c8009a9",
      "execution_count": null,
      "outputs": []
    },
    {
      "cell_type": "markdown",
      "metadata": {},
      "source": [
        "What is the total RSS of y? What this RSS reduced to when you split the data? \n",
        "\n",
        "The question is a little ambiguous to me, but the total RSS of y is observed as approximately 11200, and the improvement in RSS is observed as approximately 6200. The RSS reduced the value of improvement as the tree was split.\n",
        "\n",
        "d) _Growing the Tree_ \n",
        "Split the lower half again. Split the upper half again. What is the total RSS now?\n"
      ],
      "id": "63468901"
    },
    {
      "cell_type": "code",
      "metadata": {},
      "source": [
        "subset_data <- function(x, y, condition) {\n",
        "  list(\n",
        "    x = x[condition],\n",
        "    y = y[condition]\n",
        "  )\n",
        "}\n",
        "\n",
        "cat(\"\\nInitial Split\\n\")\n",
        "\n",
        "best_split2 <- function(x, y, depth = 1) {\n",
        "  n <- length(x)\n",
        "  split_locations <- numeric(n - 1)\n",
        "  improvements <- numeric(n - 1)\n",
        "\n",
        "  for (i in 1:(n - 1)) {\n",
        "    split_value <- (x[i] + x[i + 1]) / 2\n",
        "    left_idx <- x <= split_value\n",
        "    right_idx <- x > split_value\n",
        "\n",
        "    rss_left <- rss(y[left_idx])\n",
        "    rss_right <- rss(y[right_idx])\n",
        "\n",
        "    new_rss <- rss_left + rss_right\n",
        "    old_rss <- rss(y)\n",
        "    improvement <- old_rss - new_rss\n",
        "\n",
        "    split_locations[i] <- split_value\n",
        "    improvements[i] <- improvement\n",
        "  }\n",
        "\n",
        "  best_split_idx <- which.max(improvements)\n",
        "  best_split_loc <- split_locations[best_split_idx]\n",
        "\n",
        "  left_mean <- mean(y[x <= best_split_loc])\n",
        "  right_mean <- mean(y[x > best_split_loc])\n",
        "\n",
        "  cat(\n",
        "    paste0(\"Split Location (Depth \", depth, \"): \", best_split_loc, \"\\n\"),\n",
        "    paste0(\"Left Mean (Depth \", depth, \"): \", left_mean, \"\\n\"),\n",
        "    paste0(\"Right Mean (Depth \", depth, \"): \", right_mean, \"\\n\"),\n",
        "    paste0(\"Improvement (Depth \", depth, \"): \", improvements[best_split_idx], \"\\n\")\n",
        "  )\n",
        "\n",
        "\n",
        "  if (depth < 2) {\n",
        "    left_branch <- subset_data(x, y, x <= best_split_loc)\n",
        "    right_branch <- subset_data(x, y, x > best_split_loc)\n",
        "\n",
        "    cat(\"\\nLower Branch (Depth \", depth + 1, \"):\\n\")\n",
        "    best_split2(left_branch$x, left_branch$y, depth + 1)\n",
        "\n",
        "    cat(\"\\nUpper Branch (Depth \", depth + 1, \"):\\n\")\n",
        "    best_split2(right_branch$x, right_branch$y, depth + 1)\n",
        "  }\n",
        "  cat(\"\\n\", new_rss, \"\\n\")\n",
        "}\n",
        "\n",
        "split1 <- best_split2(x, y)\n",
        "split1"
      ],
      "id": "dfed9eaf",
      "execution_count": null,
      "outputs": []
    },
    {
      "cell_type": "markdown",
      "metadata": {},
      "source": [
        "The total RSS for this function is approximately 11000, and it is observed that the value of improvement has decreased significantly in the lower branch, but increased again in the upper branch.  \n",
        "\n",
        "e) Try this all again with the same data but with R's tree() function. Make a plot of the tree. Do the first few splits agree with the results of your method?\n"
      ],
      "id": "7d08493d"
    },
    {
      "cell_type": "code",
      "metadata": {},
      "source": [
        "tree_model <- tree(y~x, mydf)\n",
        "plot(tree_model)\n",
        "text(tree_model, pretty = 0)"
      ],
      "id": "9cc6792c",
      "execution_count": null,
      "outputs": []
    },
    {
      "cell_type": "markdown",
      "metadata": {},
      "source": [
        "f) Now that we have a good understanding of how to do recursive binary splitting of a single variable, how do would you handle multiple predictors? \n",
        "\n",
        "When there are multiple predictors, binary splitting method is the best method for every predictor and choosing the lowest RSS value is critical when choosing the split point. \n",
        "\n",
        "### Problem 2: \n",
        "\n",
        "**Complete one of two problems on abalone shells or airfoil data**\n",
        "\n",
        "Your group will be assigned one of the following problems to go over during lab. You will walk through your results at the end of class\n",
        "\n",
        "#### 2a\n",
        "\n",
        "_Work with Abalone Data_. These data may be found on the [UC Irvine website](http://archive.ics.uci.edu/ml/). They give various physical characteristics of about 4000 abalone shellfish. The data were collected in Tasmania in 1995. Make sure that the data are in your source directory.\n"
      ],
      "id": "ad28ff33"
    },
    {
      "cell_type": "code",
      "metadata": {},
      "source": [
        "library(MASS)\n",
        "library(ggplot2)"
      ],
      "id": "0c92e30a",
      "execution_count": null,
      "outputs": []
    },
    {
      "cell_type": "markdown",
      "metadata": {},
      "source": [
        "a) We'll try to predict the number of Rings, using the other features. Train a linear model as a baseline case. What is the RSS or Rsquared?\n"
      ],
      "id": "3c9f6727"
    },
    {
      "cell_type": "code",
      "metadata": {},
      "source": [
        "load(\"abalone.RData\")\n",
        "names(abalone)\n",
        "nrow(abalone)\n",
        "# str(abalone)"
      ],
      "id": "ac380ffc",
      "execution_count": null,
      "outputs": []
    },
    {
      "cell_type": "code",
      "metadata": {},
      "source": [
        "# linear model\n",
        "model1 = lm(Rings~., data=abalone)\n",
        "summary(model1)$r.squared # r-squared\n",
        "sum(model1$residuals^2) # rss"
      ],
      "id": "01fef1cf",
      "execution_count": null,
      "outputs": []
    },
    {
      "cell_type": "markdown",
      "metadata": {},
      "source": [
        "R-squared value is 0.5378844 and RSS value is 20060.73. \n",
        "\n",
        "b) Now build a tree and plot it.  We can make the annotation of the tree look better by reducing the font size with the \\texttt{cex} parameter. What is the depth of the tree? How many leaves does it have?\n"
      ],
      "id": "7f1ecea3"
    },
    {
      "cell_type": "code",
      "metadata": {},
      "source": [
        "tree_model <- tree(Rings~., data = abalone)\n",
        "plot(tree_model, cex = .5)\n",
        "text(tree_model, pretty = 0, cex = .5)"
      ],
      "id": "03a803fd",
      "execution_count": null,
      "outputs": []
    },
    {
      "cell_type": "markdown",
      "metadata": {},
      "source": [
        "The depth of the tree is 4, and the leaves are 10. \n",
        "\n",
        "\n",
        "c) We can manually prune the tree to whatever depth we want. Use the function prune.tree() to simplify the tree so it only has 4 leaves. Visualize this tree.\n"
      ],
      "id": "8caa09c2"
    },
    {
      "cell_type": "code",
      "metadata": {},
      "source": [
        "pruned_tree <- prune.tree(tree_model, best = 4)\n",
        "\n",
        "plot(pruned_tree)\n",
        "text(pruned_tree, pretty = 0, cex = 0.5)"
      ],
      "id": "6df7c54a",
      "execution_count": null,
      "outputs": []
    },
    {
      "cell_type": "markdown",
      "metadata": {},
      "source": [
        "d) Which two continuous predictors seem to be highly predictive according to the tree? Draw a sketch of the feature space and the splits in the space, as well as the predicted number of Rings for each region.\n",
        "\n",
        "Based on the tree plot, the two continuous predictors that are highly predictive are __Shell Weight__ and __Shucked Weight__.\n"
      ],
      "id": "09ae76ed"
    },
    {
      "cell_type": "code",
      "metadata": {},
      "source": [
        "pruned_tree <- prune.tree(tree_model, best = 10)\n",
        "\n",
        "plot(pruned_tree)\n",
        "text(pruned_tree, pretty = 0, cex = 0.5)\n",
        "\n",
        "for (leaf in 1:length(pruned_tree$frame$yval)) {\n",
        "  predicted_value <- pruned_tree$frame$yval[leaf]\n",
        "  text(leaf, predicted_value, label = round(predicted_value, 2), pos = 2, cex = 0.8)\n",
        "}"
      ],
      "id": "41c81d60",
      "execution_count": null,
      "outputs": []
    },
    {
      "cell_type": "markdown",
      "metadata": {},
      "source": [
        "e) Decision trees have high variance. Split the Abalone data in half and train two trees (and don't worry about any extra pruning). Observe the differences between them, visualize the two different trees.\n"
      ],
      "id": "7551e6ba"
    },
    {
      "cell_type": "code",
      "metadata": {},
      "source": [
        "set.seed(1)\n",
        "row.number <- sample(1:nrow(abalone), 0.5*nrow(abalone))\n",
        "left = abalone[row.number,]\n",
        "right = abalone[-row.number,]\n",
        "\n",
        "par(mfrow=c(1,2))\n",
        "tree_model1 <- tree(Rings~., data = left)\n",
        "plot(tree_model1, cex = .5)\n",
        "text(tree_model1, pretty = 0, cex = .5)\n",
        "\n",
        "tree_model2 <- tree(Rings~., data = right)\n",
        "plot(tree_model2, cex = .5)\n",
        "text(tree_model2, pretty = 0, cex = .5)"
      ],
      "id": "dbbb9d37",
      "execution_count": null,
      "outputs": []
    },
    {
      "cell_type": "markdown",
      "metadata": {},
      "source": [
        "The plots are pretty similar to each other, but they are slightly different in terms of the number of leaves, and splitting points. \n",
        "\n",
        "#### 2b\n",
        "\n",
        "Let's explore the airfoil data. We're going to try to predict the \"Pressure\" feature from the other features. Use one of the tree aggregation methods we have learned about (Random Forest, Boosting, Bagging)\n",
        "\n",
        "(a) Start with some exploratory visualizations to see how the other features are related to Pressure. Feel free to use pairs(), or scatterplots, or boxplots. Do any features seem to be strongly predictive of Pressure?\n",
        "\n",
        "(b) Create a train-test split of the data.\n",
        "\n",
        "(c) Fit a linear model, observe the $R^2$ on the test set.\n",
        "\n",
        "(d) Fit a single decision tree, one with large depth. Observe the $R^2$ on the test set. Make a plot of three if you wish.\n",
        "\n",
        "(e) Fit a tree aggregation model, observe the $R^2$ on the test set.\n"
      ],
      "id": "0c45ebbe"
    }
  ],
  "metadata": {
    "kernelspec": {
      "name": "ir",
      "language": "R",
      "display_name": "R"
    }
  },
  "nbformat": 4,
  "nbformat_minor": 5
}